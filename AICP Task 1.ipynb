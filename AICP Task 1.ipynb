{
 "cells": [
  {
   "cell_type": "markdown",
   "id": "90c6ffdc",
   "metadata": {},
   "source": [
    "##TASK 1"
   ]
  },
  {
   "cell_type": "markdown",
   "id": "b5ba5c70",
   "metadata": {},
   "source": [
    "Write a NumPy program to create an array of all even integers from 30 to 70\n"
   ]
  },
  {
   "cell_type": "code",
   "execution_count": 1,
   "id": "5e3f71ee",
   "metadata": {},
   "outputs": [
    {
     "name": "stdout",
     "output_type": "stream",
     "text": [
      "[30 32 34 36 38 40 42 44 46 48 50 52 54 56 58 60 62 64 66 68 70]\n"
     ]
    }
   ],
   "source": [
    "import numpy as np\n",
    "\n",
    "# Create an array of even integers from 30 to 70\n",
    "even_array = np.arange(30, 71, 2)\n",
    "\n",
    "print(even_array)"
   ]
  },
  {
   "cell_type": "markdown",
   "id": "e2c9eb34",
   "metadata": {},
   "source": [
    "Write a NumPy program to generate an array of 15 random numbers from a standard normal\n",
    "distribution\n"
   ]
  },
  {
   "cell_type": "code",
   "execution_count": 2,
   "id": "ff95f8dc",
   "metadata": {},
   "outputs": [
    {
     "name": "stdout",
     "output_type": "stream",
     "text": [
      "[ 2.69848014  0.08296146 -0.83364207  0.57792073 -0.76497925 -0.24041817\n",
      "  0.25194647  1.21905779  1.17307649  0.78521901  0.19543142  0.41806006\n",
      "  0.47666582  0.0223153   1.64155453]\n"
     ]
    }
   ],
   "source": [
    "array=np.random.randn(15)\n",
    "print(array)"
   ]
  },
  {
   "cell_type": "code",
   "execution_count": 3,
   "id": "3400d568",
   "metadata": {},
   "outputs": [
    {
     "name": "stdout",
     "output_type": "stream",
     "text": [
      "2.698480138930054\n"
     ]
    }
   ],
   "source": [
    "print(array[0])"
   ]
  },
  {
   "cell_type": "markdown",
   "id": "3af7e8be",
   "metadata": {},
   "source": [
    "How to compute the cross-product of two matrices in NumPy?"
   ]
  },
  {
   "cell_type": "code",
   "execution_count": 4,
   "id": "8af0baa2",
   "metadata": {},
   "outputs": [
    {
     "name": "stdout",
     "output_type": "stream",
     "text": [
      "[[0 1 2]\n",
      " [3 4 5]\n",
      " [6 7 8]]\n"
     ]
    }
   ],
   "source": [
    "#first let we create two matrics \n",
    "matrix1=np.arange(0,9,1)\n",
    "\n",
    "#to reshape an array to 3x3 shape\n",
    "new_matrix1=matrix1.reshape(3,3)\n",
    "print(new_matrix1)"
   ]
  },
  {
   "cell_type": "code",
   "execution_count": 5,
   "id": "5c1c6b25",
   "metadata": {},
   "outputs": [
    {
     "name": "stdout",
     "output_type": "stream",
     "text": [
      "[ 0  3  6  9 12 15 18 21 24]\n",
      "[[ 0  3  6]\n",
      " [ 9 12 15]\n",
      " [18 21 24]]\n"
     ]
    }
   ],
   "source": [
    "#to create an anther matrix\n",
    "#first let we create two matrics \n",
    "matrix2=np.arange(0,27,3)\n",
    "print(matrix2)\n",
    "#to reshape an array to 3x3 shape\n",
    "new_matrix2=matrix2.reshape(3,3)\n",
    "print(new_matrix2)"
   ]
  },
  {
   "cell_type": "code",
   "execution_count": 12,
   "id": "d179142c",
   "metadata": {},
   "outputs": [
    {
     "name": "stdout",
     "output_type": "stream",
     "text": [
      "[[ 45  54  63]\n",
      " [126 162 198]\n",
      " [207 270 333]]\n"
     ]
    }
   ],
   "source": [
    "#to calculate the cross product of new_matrix1 x new_matrix2\n",
    "# Compute the cross product\n",
    "cross_product = np.dot(new_matrix1, new_matrix2)\n",
    "print(cross_product)\n"
   ]
  },
  {
   "cell_type": "markdown",
   "id": "d25396be",
   "metadata": {},
   "source": [
    "**How to compute the determinant of an array using NumPy"
   ]
  },
  {
   "cell_type": "code",
   "execution_count": 33,
   "id": "184172b4",
   "metadata": {},
   "outputs": [
    {
     "name": "stdout",
     "output_type": "stream",
     "text": [
      "[[1 2 3]\n",
      " [4 5 6]\n",
      " [7 8 9]]\n",
      "\n",
      "Determinant:  6.66133814775094e-16\n",
      "Rounded Determinant : 0.0\n"
     ]
    }
   ],
   "source": [
    "array=np.arange(1,10,1).reshape(3,3)\n",
    "print(array)\n",
    "#now to find the determinant of array\n",
    "determinant = np.linalg.det(array)\n",
    "\n",
    "print('\\nDeterminant: ',determinant)\n",
    "rounded_determinant = round(determinant, 1)\n",
    "print('Rounded Determinant :',rounded_determinant)"
   ]
  },
  {
   "cell_type": "markdown",
   "id": "844bbd9b",
   "metadata": {},
   "source": [
    "How to create a 3x3x3 array with random values using NumPy?"
   ]
  },
  {
   "cell_type": "code",
   "execution_count": 39,
   "id": "56486711",
   "metadata": {},
   "outputs": [
    {
     "name": "stdout",
     "output_type": "stream",
     "text": [
      "[[[ 0.25214043 -0.04100514 -0.92224046]\n",
      "  [ 0.71087457  1.04537757  0.5866711 ]\n",
      "  [ 0.04432466  0.01517472 -0.08234951]]\n",
      "\n",
      " [[-0.01262995 -0.80663073  0.32256141]\n",
      "  [ 1.89571421  1.63317932 -0.89408876]\n",
      "  [-0.04390309 -0.05579953 -0.41607552]]\n",
      "\n",
      " [[ 1.01234783 -0.3053658   0.56998829]\n",
      "  [-1.17171581 -2.32200355  0.05113924]\n",
      "  [ 0.80036214 -1.03412407  0.50011924]]]\n"
     ]
    }
   ],
   "source": [
    "_3d_array = np.random.randn(27).reshape(3,3,3)\n",
    "print(_3d_array)"
   ]
  },
  {
   "cell_type": "markdown",
   "id": "aed125c5",
   "metadata": {},
   "source": [
    "#How to create a 5x5 array with random values and find the minimum and maximum values using NumPy?"
   ]
  },
  {
   "cell_type": "code",
   "execution_count": 45,
   "id": "a25d3f72",
   "metadata": {},
   "outputs": [
    {
     "name": "stdout",
     "output_type": "stream",
     "text": [
      "[[ 1.0497635  -1.27898333 -1.87873431  0.14605108  0.81928616]\n",
      " [ 0.41912887 -0.36320554 -0.53116691 -0.53583731 -0.47651275]\n",
      " [-1.61323464  0.56747132 -0.15099771  0.69747827  0.02681074]\n",
      " [ 0.26653934  1.40486585 -0.83479617  0.17998641  0.75511274]\n",
      " [ 0.20845946 -0.47273859  0.87655209  1.45134908  0.24955908]]\n",
      "MAX : 1.451349081814312\n",
      "MIN : -1.8787343067097473\n"
     ]
    }
   ],
   "source": [
    "_5xarray = np.random.randn(25).reshape(5,5)\n",
    "print(_5xarray)\n",
    "max_value = np.max(_5xarray)\n",
    "min_value = np.min(_5xarray)\n",
    "print('MAX :',max_value)\n",
    "print('MIN :',min_value)"
   ]
  },
  {
   "cell_type": "markdown",
   "id": "04325dd5",
   "metadata": {},
   "source": [
    "How to compute the mean, standard deviation, and variance of a given array along the second axis in\n",
    "NumPy?\n"
   ]
  },
  {
   "cell_type": "code",
   "execution_count": 51,
   "id": "f781af4c",
   "metadata": {},
   "outputs": [
    {
     "name": "stdout",
     "output_type": "stream",
     "text": [
      "MEAN : 5.0\n",
      "VARIANCE : 6.666666666666667\n",
      "STANDARD DEVIATION : 2.581988897471611\n"
     ]
    }
   ],
   "source": [
    "#let suppose we have an array of order 3x3\n",
    "cal_array=np.arange(1,10,1).reshape(3,3)\n",
    "\n",
    "#to find the mean \n",
    "mean = np.mean(cal_array)\n",
    "variance = np.var(cal_array)\n",
    "std_devation = np.std(cal_array)\n",
    "\n",
    "print('MEAN :',mean)\n",
    "print('VARIANCE :',variance)\n",
    "print('STANDARD DEVIATION :',std_devation)"
   ]
  },
  {
   "cell_type": "code",
   "execution_count": null,
   "id": "30c0177a",
   "metadata": {},
   "outputs": [],
   "source": []
  }
 ],
 "metadata": {
  "kernelspec": {
   "display_name": "Python 3 (ipykernel)",
   "language": "python",
   "name": "python3"
  },
  "language_info": {
   "codemirror_mode": {
    "name": "ipython",
    "version": 3
   },
   "file_extension": ".py",
   "mimetype": "text/x-python",
   "name": "python",
   "nbconvert_exporter": "python",
   "pygments_lexer": "ipython3",
   "version": "3.11.5"
  }
 },
 "nbformat": 4,
 "nbformat_minor": 5
}
