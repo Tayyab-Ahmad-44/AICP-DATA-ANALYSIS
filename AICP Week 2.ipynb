{
 "cells": [
  {
   "cell_type": "markdown",
   "id": "84bb97fd-7b65-4580-abdb-c323a7897831",
   "metadata": {},
   "source": [
    "#                                                      AICP INTERNSHIP WEEK 02\n"
   ]
  },
  {
   "cell_type": "code",
   "execution_count": 1,
   "id": "bad4a67b-e2a9-4de4-8d8b-a39dce0d596b",
   "metadata": {},
   "outputs": [],
   "source": [
    "import pandas as pd"
   ]
  },
  {
   "cell_type": "markdown",
   "id": "76ace004-7817-47c6-8128-b8c5084cc417",
   "metadata": {},
   "source": [
    "## Task 1"
   ]
  },
  {
   "cell_type": "code",
   "execution_count": 2,
   "id": "984a165f-97b8-4881-b7ed-f4226e0ea39d",
   "metadata": {},
   "outputs": [
    {
     "data": {
      "text/plain": [
       "a    1\n",
       "x    4\n",
       "c    9\n",
       "2    6\n",
       "e    7\n",
       "dtype: int64"
      ]
     },
     "execution_count": 2,
     "metadata": {},
     "output_type": "execute_result"
    }
   ],
   "source": [
    "values = [1, 4, 9, 6, 7]\n",
    "\n",
    "series1 = pd.Series(values, index = ['a', 'x', 'c', '2', 'e'])\n",
    "\n",
    "series1"
   ]
  },
  {
   "cell_type": "markdown",
   "id": "b8b30e66-231f-4cf1-b9b9-9bb7af87a0cd",
   "metadata": {},
   "source": [
    "## Task 2"
   ]
  },
  {
   "cell_type": "code",
   "execution_count": 3,
   "id": "0da088d6-a906-4be3-81a2-1ba2d1555fcf",
   "metadata": {},
   "outputs": [
    {
     "data": {
      "text/plain": [
       "Tayyab    99\n",
       "Baber     83\n",
       "Hamza     67\n",
       "dtype: int64"
      ]
     },
     "execution_count": 3,
     "metadata": {},
     "output_type": "execute_result"
    }
   ],
   "source": [
    "dict1 = {\n",
    "    \"Tayyab\": 99,\n",
    "    \"Baber\": 83,\n",
    "    \"Hamza\": 67\n",
    "}\n",
    "\n",
    "series2 = pd.Series(dict1)\n",
    "\n",
    "series2"
   ]
  },
  {
   "cell_type": "markdown",
   "id": "a91fe5ec-5a3e-41be-bebe-d071d174e4ca",
   "metadata": {},
   "source": [
    "## Task 3"
   ]
  },
  {
   "cell_type": "code",
   "execution_count": 4,
   "id": "fd4bbad6-abbc-4dab-8b96-2cdbca50d196",
   "metadata": {},
   "outputs": [
    {
     "data": {
      "text/html": [
       "<div>\n",
       "<style scoped>\n",
       "    .dataframe tbody tr th:only-of-type {\n",
       "        vertical-align: middle;\n",
       "    }\n",
       "\n",
       "    .dataframe tbody tr th {\n",
       "        vertical-align: top;\n",
       "    }\n",
       "\n",
       "    .dataframe thead th {\n",
       "        text-align: right;\n",
       "    }\n",
       "</style>\n",
       "<table border=\"1\" class=\"dataframe\">\n",
       "  <thead>\n",
       "    <tr style=\"text-align: right;\">\n",
       "      <th></th>\n",
       "      <th>day</th>\n",
       "      <th>temperature</th>\n",
       "      <th>windspeed</th>\n",
       "      <th>event</th>\n",
       "    </tr>\n",
       "  </thead>\n",
       "  <tbody>\n",
       "    <tr>\n",
       "      <th>0</th>\n",
       "      <td>1/1/2024</td>\n",
       "      <td>32</td>\n",
       "      <td>6</td>\n",
       "      <td>Rain</td>\n",
       "    </tr>\n",
       "    <tr>\n",
       "      <th>1</th>\n",
       "      <td>1/1/2024</td>\n",
       "      <td>35</td>\n",
       "      <td>7</td>\n",
       "      <td>Sunny</td>\n",
       "    </tr>\n",
       "    <tr>\n",
       "      <th>2</th>\n",
       "      <td>1/1/2024</td>\n",
       "      <td>28</td>\n",
       "      <td>2</td>\n",
       "      <td>Snow</td>\n",
       "    </tr>\n",
       "    <tr>\n",
       "      <th>3</th>\n",
       "      <td>1/1/2024</td>\n",
       "      <td>24</td>\n",
       "      <td>7</td>\n",
       "      <td>Snow</td>\n",
       "    </tr>\n",
       "    <tr>\n",
       "      <th>4</th>\n",
       "      <td>1/1/2024</td>\n",
       "      <td>32</td>\n",
       "      <td>4</td>\n",
       "      <td>Rain</td>\n",
       "    </tr>\n",
       "    <tr>\n",
       "      <th>5</th>\n",
       "      <td>1/1/2024</td>\n",
       "      <td>31</td>\n",
       "      <td>2</td>\n",
       "      <td>Sunny</td>\n",
       "    </tr>\n",
       "  </tbody>\n",
       "</table>\n",
       "</div>"
      ],
      "text/plain": [
       "        day  temperature  windspeed  event\n",
       "0  1/1/2024           32          6   Rain\n",
       "1  1/1/2024           35          7  Sunny\n",
       "2  1/1/2024           28          2   Snow\n",
       "3  1/1/2024           24          7   Snow\n",
       "4  1/1/2024           32          4   Rain\n",
       "5  1/1/2024           31          2  Sunny"
      ]
     },
     "execution_count": 4,
     "metadata": {},
     "output_type": "execute_result"
    }
   ],
   "source": [
    "dict2 = {\n",
    "    \"day\": ['1/1/2024', '1/1/2024','1/1/2024','1/1/2024','1/1/2024','1/1/2024'],\n",
    "    \"temperature\": [32, 35, 28, 24, 32, 31],\n",
    "    \"windspeed\": [6, 7, 2, 7, 4, 2],\n",
    "    \"event\": ['Rain', 'Sunny', 'Snow', 'Snow', 'Rain', 'Sunny']\n",
    "}\n",
    "\n",
    "df1 = pd.DataFrame(dict2)\n",
    "\n",
    "df1"
   ]
  },
  {
   "cell_type": "markdown",
   "id": "28086724-f049-4ef5-98b2-3a5c852deb4b",
   "metadata": {},
   "source": [
    "## Task 4"
   ]
  },
  {
   "cell_type": "code",
   "execution_count": 5,
   "id": "e55b6821-5a1e-4c3c-953c-4feb1b73e184",
   "metadata": {},
   "outputs": [
    {
     "data": {
      "text/html": [
       "<div>\n",
       "<style scoped>\n",
       "    .dataframe tbody tr th:only-of-type {\n",
       "        vertical-align: middle;\n",
       "    }\n",
       "\n",
       "    .dataframe tbody tr th {\n",
       "        vertical-align: top;\n",
       "    }\n",
       "\n",
       "    .dataframe thead th {\n",
       "        text-align: right;\n",
       "    }\n",
       "</style>\n",
       "<table border=\"1\" class=\"dataframe\">\n",
       "  <thead>\n",
       "    <tr style=\"text-align: right;\">\n",
       "      <th></th>\n",
       "      <th>day</th>\n",
       "      <th>temperature</th>\n",
       "      <th>windspeed</th>\n",
       "      <th>event</th>\n",
       "    </tr>\n",
       "  </thead>\n",
       "  <tbody>\n",
       "    <tr>\n",
       "      <th>a</th>\n",
       "      <td>1/1/2024</td>\n",
       "      <td>32</td>\n",
       "      <td>6</td>\n",
       "      <td>Rain</td>\n",
       "    </tr>\n",
       "    <tr>\n",
       "      <th>b</th>\n",
       "      <td>1/1/2024</td>\n",
       "      <td>35</td>\n",
       "      <td>7</td>\n",
       "      <td>Sunny</td>\n",
       "    </tr>\n",
       "    <tr>\n",
       "      <th>c</th>\n",
       "      <td>1/1/2024</td>\n",
       "      <td>28</td>\n",
       "      <td>2</td>\n",
       "      <td>Snow</td>\n",
       "    </tr>\n",
       "    <tr>\n",
       "      <th>d</th>\n",
       "      <td>1/1/2024</td>\n",
       "      <td>24</td>\n",
       "      <td>7</td>\n",
       "      <td>Snow</td>\n",
       "    </tr>\n",
       "    <tr>\n",
       "      <th>e</th>\n",
       "      <td>1/1/2024</td>\n",
       "      <td>32</td>\n",
       "      <td>4</td>\n",
       "      <td>Rain</td>\n",
       "    </tr>\n",
       "    <tr>\n",
       "      <th>f</th>\n",
       "      <td>1/1/2024</td>\n",
       "      <td>31</td>\n",
       "      <td>2</td>\n",
       "      <td>Sunny</td>\n",
       "    </tr>\n",
       "  </tbody>\n",
       "</table>\n",
       "</div>"
      ],
      "text/plain": [
       "        day  temperature  windspeed  event\n",
       "a  1/1/2024           32          6   Rain\n",
       "b  1/1/2024           35          7  Sunny\n",
       "c  1/1/2024           28          2   Snow\n",
       "d  1/1/2024           24          7   Snow\n",
       "e  1/1/2024           32          4   Rain\n",
       "f  1/1/2024           31          2  Sunny"
      ]
     },
     "execution_count": 5,
     "metadata": {},
     "output_type": "execute_result"
    }
   ],
   "source": [
    "df1.index = ['a', 'b', 'c', 'd', 'e', 'f']\n",
    "\n",
    "df1"
   ]
  },
  {
   "cell_type": "markdown",
   "id": "20a8e9d0-98a9-44c1-ab12-7fcba6df209d",
   "metadata": {},
   "source": [
    "## Task 5"
   ]
  },
  {
   "cell_type": "code",
   "execution_count": 6,
   "id": "53517f44-19ab-454a-9715-0b03aa3e3d6e",
   "metadata": {},
   "outputs": [
    {
     "name": "stdout",
     "output_type": "stream",
     "text": [
      "Mean =  30.333333333333332\n",
      "Max =  35\n",
      "Min =  24\n"
     ]
    }
   ],
   "source": [
    "print(\"Mean = \", df1['temperature'].mean())\n",
    "print(\"Max = \", df1['temperature'].max())\n",
    "print(\"Min = \", df1['temperature'].min())"
   ]
  },
  {
   "cell_type": "markdown",
   "id": "44def465-c032-436f-8264-b0f342a6fde1",
   "metadata": {},
   "source": [
    "## Task 6"
   ]
  },
  {
   "cell_type": "code",
   "execution_count": 22,
   "id": "85b55623-3c7d-4524-bc8a-5749c7f45fa8",
   "metadata": {},
   "outputs": [
    {
     "data": {
      "text/html": [
       "<div>\n",
       "<style scoped>\n",
       "    .dataframe tbody tr th:only-of-type {\n",
       "        vertical-align: middle;\n",
       "    }\n",
       "\n",
       "    .dataframe tbody tr th {\n",
       "        vertical-align: top;\n",
       "    }\n",
       "\n",
       "    .dataframe thead th {\n",
       "        text-align: right;\n",
       "    }\n",
       "</style>\n",
       "<table border=\"1\" class=\"dataframe\">\n",
       "  <thead>\n",
       "    <tr style=\"text-align: right;\">\n",
       "      <th></th>\n",
       "      <th></th>\n",
       "      <th>First Name</th>\n",
       "      <th>Email</th>\n",
       "      <th>Phone</th>\n",
       "    </tr>\n",
       "    <tr>\n",
       "      <th>Sex</th>\n",
       "      <th>Job Title</th>\n",
       "      <th></th>\n",
       "      <th></th>\n",
       "      <th></th>\n",
       "    </tr>\n",
       "  </thead>\n",
       "  <tbody>\n",
       "    <tr>\n",
       "      <th>Female</th>\n",
       "      <th>Phytotherapist</th>\n",
       "      <td>Phillip</td>\n",
       "      <td>bethany14@example.com</td>\n",
       "      <td>214.112.6044x4913</td>\n",
       "    </tr>\n",
       "    <tr>\n",
       "      <th rowspan=\"3\" valign=\"top\">Male</th>\n",
       "      <th>Homeopath</th>\n",
       "      <td>Kristine</td>\n",
       "      <td>bthompson@example.com</td>\n",
       "      <td>277.609.7938</td>\n",
       "    </tr>\n",
       "    <tr>\n",
       "      <th>Market researcher</th>\n",
       "      <td>Yesenia</td>\n",
       "      <td>kaitlinkaiser@example.com</td>\n",
       "      <td>584.094.6111</td>\n",
       "    </tr>\n",
       "    <tr>\n",
       "      <th>Waste management officer</th>\n",
       "      <td>Erin</td>\n",
       "      <td>tconner@example.org</td>\n",
       "      <td>001-171-649-9856x5553</td>\n",
       "    </tr>\n",
       "    <tr>\n",
       "      <th>Female</th>\n",
       "      <th>Intelligence analyst</th>\n",
       "      <td>Katherine</td>\n",
       "      <td>conniecowan@example.com</td>\n",
       "      <td>+1-773-151-6685x49162</td>\n",
       "    </tr>\n",
       "  </tbody>\n",
       "</table>\n",
       "</div>"
      ],
      "text/plain": [
       "                                First Name                      Email  \\\n",
       "Sex    Job Title                                                        \n",
       "Female Phytotherapist              Phillip      bethany14@example.com   \n",
       "Male   Homeopath                  Kristine      bthompson@example.com   \n",
       "       Market researcher           Yesenia  kaitlinkaiser@example.com   \n",
       "       Waste management officer       Erin        tconner@example.org   \n",
       "Female Intelligence analyst      Katherine    conniecowan@example.com   \n",
       "\n",
       "                                                 Phone  \n",
       "Sex    Job Title                                        \n",
       "Female Phytotherapist                214.112.6044x4913  \n",
       "Male   Homeopath                          277.609.7938  \n",
       "       Market researcher                  584.094.6111  \n",
       "       Waste management officer  001-171-649-9856x5553  \n",
       "Female Intelligence analyst      +1-773-151-6685x49162  "
      ]
     },
     "execution_count": 22,
     "metadata": {},
     "output_type": "execute_result"
    }
   ],
   "source": [
    "df = pd.read_csv(\"people.csv\", usecols = [\"First Name\", \"Sex\", \"Email\", \"Phone\", \"Job Title\"], skiprows=[1, 5])\n",
    "\n",
    "df.set_index([\"Sex\", \"Job Title\"], inplace=True)\n",
    "\n",
    "df.to_csv('NewPeople.csv')\n",
    "\n",
    "df.head()"
   ]
  },
  {
   "cell_type": "code",
   "execution_count": null,
   "id": "1c490b05-0353-49a2-b3b7-da6d01bb6274",
   "metadata": {},
   "outputs": [],
   "source": []
  },
  {
   "cell_type": "markdown",
   "id": "268b31e5-9773-4793-a6b1-22b82dfa6063",
   "metadata": {},
   "source": [
    "## Task 7"
   ]
  },
  {
   "cell_type": "code",
   "execution_count": 34,
   "id": "7e3258c4-14ff-412f-8acb-022058bbffc3",
   "metadata": {},
   "outputs": [
    {
     "data": {
      "text/html": [
       "<div>\n",
       "<style scoped>\n",
       "    .dataframe tbody tr th:only-of-type {\n",
       "        vertical-align: middle;\n",
       "    }\n",
       "\n",
       "    .dataframe tbody tr th {\n",
       "        vertical-align: top;\n",
       "    }\n",
       "\n",
       "    .dataframe thead th {\n",
       "        text-align: right;\n",
       "    }\n",
       "</style>\n",
       "<table border=\"1\" class=\"dataframe\">\n",
       "  <thead>\n",
       "    <tr style=\"text-align: right;\">\n",
       "      <th></th>\n",
       "      <th>Amir</th>\n",
       "      <th>95</th>\n",
       "    </tr>\n",
       "  </thead>\n",
       "  <tbody>\n",
       "    <tr>\n",
       "      <th>1</th>\n",
       "      <td>Sufyan</td>\n",
       "      <td>85</td>\n",
       "    </tr>\n",
       "    <tr>\n",
       "      <th>2</th>\n",
       "      <td>Saiqa</td>\n",
       "      <td>80</td>\n",
       "    </tr>\n",
       "    <tr>\n",
       "      <th>3</th>\n",
       "      <td>Aimen</td>\n",
       "      <td>75</td>\n",
       "    </tr>\n",
       "  </tbody>\n",
       "</table>\n",
       "</div>"
      ],
      "text/plain": [
       "0    Amir  95\n",
       "1  Sufyan  85\n",
       "2   Saiqa  80\n",
       "3   Aimen  75"
      ]
     },
     "execution_count": 34,
     "metadata": {},
     "output_type": "execute_result"
    }
   ],
   "source": [
    "df1 = pd.read_excel('SampleWork.xlsx', sheet_name='Sheet1', skiprows=[2])\n",
    "\n",
    "first_column = df1.iloc[:, 0]  # First column\n",
    "last_column = df1.iloc[:, -1]  # Last column\n",
    "\n",
    "new_df = pd.concat([first_column, last_column], axis=1)\n",
    "\n",
    "new_df.columns = new_df.iloc[0]\n",
    "new_df = new_df[1:]\n",
    "\n",
    "new_df.to_excel('output.xlsx', index=False, sheet_name='newsheet')\n",
    "\n",
    "new_df"
   ]
  },
  {
   "cell_type": "code",
   "execution_count": null,
   "id": "eaf5e055-690c-4651-afe4-617d52395f20",
   "metadata": {},
   "outputs": [],
   "source": []
  },
  {
   "cell_type": "markdown",
   "id": "4a0be405-08df-4c06-b44b-f2d644080844",
   "metadata": {},
   "source": [
    "## Task 8"
   ]
  },
  {
   "cell_type": "code",
   "execution_count": 35,
   "id": "5c269d84-c121-4a04-9b9b-df3823974f85",
   "metadata": {},
   "outputs": [
    {
     "data": {
      "text/html": [
       "<div>\n",
       "<style scoped>\n",
       "    .dataframe tbody tr th:only-of-type {\n",
       "        vertical-align: middle;\n",
       "    }\n",
       "\n",
       "    .dataframe tbody tr th {\n",
       "        vertical-align: top;\n",
       "    }\n",
       "\n",
       "    .dataframe thead th {\n",
       "        text-align: right;\n",
       "    }\n",
       "</style>\n",
       "<table border=\"1\" class=\"dataframe\">\n",
       "  <thead>\n",
       "    <tr style=\"text-align: right;\">\n",
       "      <th></th>\n",
       "      <th>Name</th>\n",
       "      <th>Age</th>\n",
       "      <th>Address</th>\n",
       "      <th>Qualificaion</th>\n",
       "    </tr>\n",
       "  </thead>\n",
       "  <tbody>\n",
       "    <tr>\n",
       "      <th>0</th>\n",
       "      <td>Sonia</td>\n",
       "      <td>27</td>\n",
       "      <td>Lahore</td>\n",
       "      <td>MSC</td>\n",
       "    </tr>\n",
       "    <tr>\n",
       "      <th>1</th>\n",
       "      <td>Bilal</td>\n",
       "      <td>24</td>\n",
       "      <td>Karachi</td>\n",
       "      <td>MA</td>\n",
       "    </tr>\n",
       "    <tr>\n",
       "      <th>2</th>\n",
       "      <td>Hifza</td>\n",
       "      <td>32</td>\n",
       "      <td>Sialkot</td>\n",
       "      <td>MCA</td>\n",
       "    </tr>\n",
       "    <tr>\n",
       "      <th>3</th>\n",
       "      <td>Kabir</td>\n",
       "      <td>22</td>\n",
       "      <td>Peshawar</td>\n",
       "      <td>PHD</td>\n",
       "    </tr>\n",
       "    <tr>\n",
       "      <th>4</th>\n",
       "      <td>Jazim</td>\n",
       "      <td>23</td>\n",
       "      <td>Kohat</td>\n",
       "      <td>BSC</td>\n",
       "    </tr>\n",
       "  </tbody>\n",
       "</table>\n",
       "</div>"
      ],
      "text/plain": [
       "    Name  Age   Address Qualificaion\n",
       "0  Sonia   27    Lahore          MSC\n",
       "1  Bilal   24   Karachi           MA\n",
       "2  Hifza   32   Sialkot          MCA\n",
       "3  Kabir   22  Peshawar          PHD\n",
       "4  Jazim   23     Kohat          BSC"
      ]
     },
     "execution_count": 35,
     "metadata": {},
     "output_type": "execute_result"
    }
   ],
   "source": [
    "dict3 = {\n",
    "    \"Name\": ['Sonia', 'Bilal', 'Hifza', 'Kabir', 'Jazim'],\n",
    "    \"Age\": [27, 24, 32, 22, 23],\n",
    "    \"Address\": ['Lahore', 'Karachi', 'Sialkot', 'Peshawar', 'Kohat'], \n",
    "    \"Qualificaion\": ['MSC', 'MA', 'MCA', 'PHD', 'BSC']\n",
    "}\n",
    "\n",
    "df = pd.DataFrame(dict3)\n",
    "\n",
    "df"
   ]
  },
  {
   "cell_type": "code",
   "execution_count": 38,
   "id": "a21a2e22-c070-4a2c-a6d3-1058740bff3a",
   "metadata": {},
   "outputs": [
    {
     "name": "stdout",
     "output_type": "stream",
     "text": [
      "\n",
      "df1:\n",
      "    Name Qualification\n",
      "0  Sonia           MSC\n",
      "1  Bilal            MA\n",
      "2  Hifza           MCA\n",
      "3  Kabir           PHD\n",
      "4  Jazim           BSC\n",
      "\n",
      "Row with index 'Hifza':\n",
      "Age                   32\n",
      "Address          Sialkot\n",
      "Qualification        MCA\n",
      "Height               5.1\n",
      "Name: Hifza, dtype: object\n",
      "\n",
      "Row with index 3:\n",
      "Age                    22\n",
      "Address          Peshawar\n",
      "Qualification         PHD\n",
      "Height                5.2\n",
      "Name: Kabir, dtype: object\n"
     ]
    }
   ],
   "source": [
    "import pandas as pd\n",
    "\n",
    "dict3 = {\n",
    "    \"Name\": ['Sonia', 'Bilal', 'Hifza', 'Kabir', 'Jazim'],\n",
    "    \"Age\": [27, 24, 32, 22, 23],\n",
    "    \"Address\": ['Lahore', 'Karachi', 'Sialkot', 'Peshawar', 'Kohat'],\n",
    "    \"Qualification\": ['MSC', 'MA', 'MCA', 'PHD', 'BSC']\n",
    "}\n",
    "\n",
    "AICP_DF = pd.DataFrame(dict3) # Create DataFrame AICP_DF\n",
    "\n",
    "df1 = AICP_DF[['Name', 'Qualification']] # Select 'Name' and 'Qualification' columns and save to df1\n",
    "\n",
    "AICP_DF['Height'] = [5.1, 6.2, 5.1, 5.2, 5.1] # Add a new column \"Height\"\n",
    "\n",
    "AICP_DF.set_index('Name', inplace=True) # Set column \"Name\" as the index column\n",
    "\n",
    "row_hifza = AICP_DF.loc['Hifza'] # Retrieve row with index \"Hifza\"\n",
    "\n",
    "row_index_3 = AICP_DF.iloc[3] # Retrieve row with index 3\n",
    "\n",
    "AICP_DF.drop('Bilal', inplace=True) # Drop row with index \"Bilal\"\n",
    "\n",
    "print(\"\\ndf1:\")\n",
    "print(df1)\n",
    "print(\"\\nRow with index 'Hifza':\")\n",
    "print(row_hifza)\n",
    "print(\"\\nRow with index 3:\")\n",
    "print(row_index_3)\n"
   ]
  },
  {
   "cell_type": "code",
   "execution_count": 39,
   "id": "ccb3ccbe-1680-4394-bcfc-c650fce731f5",
   "metadata": {},
   "outputs": [
    {
     "name": "stdout",
     "output_type": "stream",
     "text": [
      "Done\n"
     ]
    }
   ],
   "source": [
    "print(\"Done\")"
   ]
  },
  {
   "cell_type": "code",
   "execution_count": null,
   "id": "b6c60035-a2f0-4955-b0e7-2ddaa4ee84cf",
   "metadata": {},
   "outputs": [],
   "source": []
  }
 ],
 "metadata": {
  "kernelspec": {
   "display_name": "Python 3 (ipykernel)",
   "language": "python",
   "name": "python3"
  },
  "language_info": {
   "codemirror_mode": {
    "name": "ipython",
    "version": 3
   },
   "file_extension": ".py",
   "mimetype": "text/x-python",
   "name": "python",
   "nbconvert_exporter": "python",
   "pygments_lexer": "ipython3",
   "version": "3.11.5"
  }
 },
 "nbformat": 4,
 "nbformat_minor": 5
}
